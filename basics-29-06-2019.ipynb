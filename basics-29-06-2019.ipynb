{
 "cells": [
  {
   "cell_type": "code",
   "execution_count": null,
   "metadata": {},
   "outputs": [],
   "source": [
    "# Practise-Factorial\n",
    "\n",
    "# You have been given a positive integer N. You need to find and print the Factorial of this number. The Factorial of a\n",
    "# positive integer N refers to the product of all number in the range from 1 to N. You can read more about the \n",
    "#factorial of a number here.\n",
    "#\n",
    "# Input Format:\n",
    "# The first and only line of the input contains a single integer N denoting the number whose factorial you need to find.\n",
    "#\n",
    "# Output Format\n",
    "# Output a single line denoting the factorial of the number N.\n",
    "#\n",
    "# Constraints\n",
    "# 1 ≤ N ≤ 10\n",
    "\n",
    "# def factorial(number):\n",
    "#     if number == 1 or number == 0:\n",
    "#         return 1\n",
    "#     else:\n",
    "#         return number * factorial(number - 1)\n",
    "\n",
    "# number = int(input())\n",
    "# print(factorial(number))\n",
    "\n",
    "\n",
    "\n",
    "\n",
    "\n",
    "\n",
    "\n",
    "def factorial(number):\n",
    "    if number==0 or number==1:\n",
    "        return 1\n",
    "    else:\n",
    "        return(number*factorial(number-1))\n",
    "number=int(input())\n",
    "factorial(number)\n"
   ]
  },
  {
   "cell_type": "code",
   "execution_count": null,
   "metadata": {},
   "outputs": [],
   "source": []
  },
  {
   "cell_type": "code",
   "execution_count": null,
   "metadata": {},
   "outputs": [],
   "source": [
    "text=input()\n",
    "text"
   ]
  },
  {
   "cell_type": "code",
   "execution_count": null,
   "metadata": {},
   "outputs": [],
   "source": [
    "#Reverse number\n",
    "Number = int(input(\"Please Enter any Number: \"))\n",
    "Reverse = 0\n",
    "while(Number > 0):\n",
    " Reminder = Number %10\n",
    " Reverse = (Reverse *10) + Reminder\n",
    " Number = Number //10\n",
    "print(\"\\n Reverse of entered number is = %d\" %Reverse)"
   ]
  },
  {
   "cell_type": "code",
   "execution_count": null,
   "metadata": {},
   "outputs": [],
   "source": [
    "x = input(\"Enter a number\")\n",
    "Y = x[len(x)-1:0:-1]+x[0]\n",
    "Y"
   ]
  },
  {
   "cell_type": "code",
   "execution_count": null,
   "metadata": {},
   "outputs": [],
   "source": [
    "# 29-06-2019 (Exam answers)\n",
    "\n",
    "# m=010101       #1-Like    0-Dislike\n",
    "#s=101101\n",
    "\n",
    "\n",
    "m = input()\n",
    "s = input()\n",
    "count=0\n",
    "\n",
    "for i in range (len(m)):\n",
    "    # we take any ones len(m) or len(s)\n",
    "    if m[i]==s[i]:\n",
    "        count=count+1\n",
    "print(count)\n",
    "        \n",
    "\n",
    "\n",
    "\n",
    "\n"
   ]
  },
  {
   "cell_type": "code",
   "execution_count": null,
   "metadata": {},
   "outputs": [],
   "source": [
    "#name position reverse\n",
    "#Mahesh--> haMesh\n",
    "\n",
    "    \n",
    "# here map means the list inside first value pss to the int \n",
    "#and int will pass to the list ..\n",
    "#so value will be increment depending on output\n",
    "\n",
    "\n",
    "s=input()\n",
    "li=list(map(int,input().split())) \n",
    "#s1=\"\"\n",
    "s2=s[li[0]-1:li[1]]\n",
    "s2=s2[::-1]\n",
    "for ch in s[li[1]:]:\n",
    "    s2+=ch\n",
    "print(s2)\n"
   ]
  },
  {
   "cell_type": "markdown",
   "metadata": {},
   "source": [
    "### TUPLES\n",
    "- Immutable\n",
    "    -can't do update,delete, edit\n",
    "- Defining Tuple\n",
    "- t=() or tuple()\n",
    "- we can store number of tuples  inside lists\n",
    "- but we cant store tuples inside list\n",
    "- It is a datastructure\n",
    "\n"
   ]
  },
  {
   "cell_type": "code",
   "execution_count": null,
   "metadata": {},
   "outputs": [],
   "source": [
    "mylist=(1)  # This is int because tuple indicates one value and also , ....It we gave single str or digit it is not a tuple\n",
    "print(type(mylist))  # and If we gave a mylist()-> empty paranthesis .This is also tuple"
   ]
  },
  {
   "cell_type": "code",
   "execution_count": null,
   "metadata": {},
   "outputs": [],
   "source": [
    "t=(12,'sdc',12.34)\n",
    "t\n"
   ]
  },
  {
   "cell_type": "code",
   "execution_count": null,
   "metadata": {},
   "outputs": [],
   "source": [
    "t[0]\n",
    "len(t)"
   ]
  },
  {
   "cell_type": "code",
   "execution_count": null,
   "metadata": {},
   "outputs": [],
   "source": [
    "dir(tuple)"
   ]
  },
  {
   "cell_type": "code",
   "execution_count": null,
   "metadata": {},
   "outputs": [],
   "source": [
    "dir(t)"
   ]
  },
  {
   "cell_type": "code",
   "execution_count": null,
   "metadata": {},
   "outputs": [],
   "source": [
    "#count()  # to using the duplicate values\n",
    "\n",
    "\n",
    "t.count(12)   # 12 count is only 1 time\n"
   ]
  },
  {
   "cell_type": "code",
   "execution_count": null,
   "metadata": {},
   "outputs": [],
   "source": [
    "#index() :It takes values and display index positiont.index\n",
    "t.index('sdc')  # Sdc is in first position"
   ]
  },
  {
   "cell_type": "markdown",
   "metadata": {},
   "source": [
    " #### Dictionaries\n",
    " \"a\".upper()  -> this is method\n",
    " a()->this is function it is used in globally\n",
    " "
   ]
  },
  {
   "cell_type": "code",
   "execution_count": null,
   "metadata": {},
   "outputs": [],
   "source": [
    "words={\"name\":\"sai\",\"branch\":\"CSE\"}\n",
    "print(words,type(words))"
   ]
  },
  {
   "cell_type": "code",
   "execution_count": null,
   "metadata": {},
   "outputs": [],
   "source": [
    "# read values   -> we have to gives keys\n",
    "print(words['name'])"
   ]
  },
  {
   "cell_type": "code",
   "execution_count": null,
   "metadata": {},
   "outputs": [],
   "source": [
    "# value update\n",
    "print(words['name'])\n",
    "words['name']='venkata saimounika'\n",
    "print(words['name'])"
   ]
  },
  {
   "cell_type": "code",
   "execution_count": null,
   "metadata": {},
   "outputs": [],
   "source": [
    "words={'name':'ayyappa','branch':'cse','name':'sai'}  # here we gave no of duplicate values but we didnt gave no of keys duplicate ..If we gave it will take recent value\n",
    "print(words)# here ayyappa name will treated as old name and sai is new name"
   ]
  },
  {
   "cell_type": "code",
   "execution_count": null,
   "metadata": {},
   "outputs": [],
   "source": [
    "details={'name':['indu','Lucky'] , 'branch':'cse'}\n",
    "print(details['branch'][2])# cse ->c=[0],c[1]=s,c[2]=e\n",
    "print(details['name'][1],details['branch'])"
   ]
  },
  {
   "cell_type": "code",
   "execution_count": null,
   "metadata": {},
   "outputs": [],
   "source": [
    "for key in words:    #print only keys   \n",
    "    print(key,\"----------->\",words[key])"
   ]
  },
  {
   "cell_type": "markdown",
   "metadata": {},
   "source": [
    "### Methods in Dictionary\n",
    "\n",
    "*** clear\n",
    "    - dict.clear() \n",
    "        -Clear all the items in dictionary\n",
    "*** get\n",
    "    - dict.get(key)\n",
    "         - Used like a indexing method \n",
    "         - get('value')\n"
   ]
  },
  {
   "cell_type": "code",
   "execution_count": null,
   "metadata": {},
   "outputs": [],
   "source": [
    "words.clear()   \n",
    "print(words)"
   ]
  },
  {
   "cell_type": "code",
   "execution_count": null,
   "metadata": {},
   "outputs": [],
   "source": [
    "s={'a':'a'}\n",
    "s.clear()\n",
    "s.clear()\n",
    "print(s)"
   ]
  },
  {
   "cell_type": "code",
   "execution_count": null,
   "metadata": {},
   "outputs": [],
   "source": [
    "words={\"name\":\"sai\",\"branch\":\"CSE\"}\n",
    "print(words)"
   ]
  },
  {
   "cell_type": "code",
   "execution_count": null,
   "metadata": {},
   "outputs": [],
   "source": [
    "newwords=words.copy()\n",
    "print(newwords)\n",
    "print(words)"
   ]
  },
  {
   "cell_type": "code",
   "execution_count": null,
   "metadata": {},
   "outputs": [],
   "source": [
    "# - get\n",
    "#     - dict.get(key)\n",
    "#          - Used like a indexing method \n",
    "#          - get('value')\n",
    "\n",
    "words.get('name')"
   ]
  },
  {
   "cell_type": "code",
   "execution_count": null,
   "metadata": {},
   "outputs": [],
   "source": [
    "words.get('mobile') # here we have no mobile name but it didnt gave any error it gave none\n",
    "# print('hi')          # here we have \n"
   ]
  },
  {
   "cell_type": "code",
   "execution_count": null,
   "metadata": {},
   "outputs": [],
   "source": [
    "# Task: \n",
    "# i/p:fruits=['orange','apple','mango','apple','mango','apple']\n",
    "# o/p : {'orange':1,'mango':2,'apple':3}\n",
    "fruits=['orange','apple','mango','apple','mango','apple']\n",
    "fruits_dict={}\n",
    "for fruit in fruits:\n",
    "    fruits_dict[fruit]=fruits_dict.get(fruit,0)+1\n",
    "print(fruits_dict)\n",
    "#len(fruits)\n",
    "#print(words.get(['phone',0])\n"
   ]
  },
  {
   "cell_type": "code",
   "execution_count": null,
   "metadata": {},
   "outputs": [],
   "source": [
    "### same question in different way\n",
    "d={}\n",
    "fruits=['orange','apple','mango','apple','mango','apple']\n",
    "for fruit in fruits:\n",
    "    d[fruit]=fruits.count(fruit)\n",
    "d"
   ]
  },
  {
   "cell_type": "code",
   "execution_count": null,
   "metadata": {},
   "outputs": [],
   "source": [
    "# To know length of fruits\n",
    "len(fruits_dict)"
   ]
  },
  {
   "cell_type": "code",
   "execution_count": null,
   "metadata": {},
   "outputs": [],
   "source": [
    "# To know keys in dictionary\n",
    "fruits_dict.keys()"
   ]
  },
  {
   "cell_type": "code",
   "execution_count": null,
   "metadata": {},
   "outputs": [],
   "source": [
    "# To know values in dictionary\n",
    "fruits_dict.values()"
   ]
  },
  {
   "cell_type": "code",
   "execution_count": null,
   "metadata": {},
   "outputs": [],
   "source": [
    "for  key in fruits_dict.keys():\n",
    "    print(fruits_dict.get(key))    # To display like this"
   ]
  },
  {
   "cell_type": "code",
   "execution_count": null,
   "metadata": {},
   "outputs": [],
   "source": [
    "for key in fruits_dict.keys():\n",
    "    print(key,fruits_dict.get(key),sep=\":\")"
   ]
  },
  {
   "cell_type": "code",
   "execution_count": null,
   "metadata": {},
   "outputs": [],
   "source": [
    "for value in fruits_dict.values():\n",
    "    print(value,end=\" \")"
   ]
  },
  {
   "cell_type": "code",
   "execution_count": null,
   "metadata": {},
   "outputs": [],
   "source": [
    "fruits_dict.items()"
   ]
  },
  {
   "cell_type": "code",
   "execution_count": null,
   "metadata": {},
   "outputs": [],
   "source": [
    "for item in fruits_dict.items():\n",
    "    print(item[0],item[1],item[2],sep=\":\")"
   ]
  },
  {
   "cell_type": "code",
   "execution_count": null,
   "metadata": {},
   "outputs": [],
   "source": [
    "for k,v in fruits_dict.items():\n",
    "    print(k,v,sep=\":\")"
   ]
  },
  {
   "cell_type": "code",
   "execution_count": null,
   "metadata": {},
   "outputs": [],
   "source": [
    "fruits_dict.get(\"apple\")"
   ]
  },
  {
   "cell_type": "code",
   "execution_count": null,
   "metadata": {},
   "outputs": [],
   "source": [
    "# If we want to add a unknow method in that place we want to add default\n",
    "fruits_dict.setdefault(\"Apple\",6)"
   ]
  },
  {
   "cell_type": "code",
   "execution_count": null,
   "metadata": {},
   "outputs": [],
   "source": [
    "fruits_dict.setdefault(\"Apple\",0)"
   ]
  },
  {
   "cell_type": "code",
   "execution_count": null,
   "metadata": {},
   "outputs": [],
   "source": [
    "fruits_dict"
   ]
  },
  {
   "cell_type": "code",
   "execution_count": null,
   "metadata": {},
   "outputs": [],
   "source": [
    "a=int(input())\n",
    "if a>399 and a<501 :\n",
    "    print(\"GREAT\")\n",
    "else:\n",
    "    print(\"need to improve\")"
   ]
  },
  {
   "cell_type": "code",
   "execution_count": null,
   "metadata": {},
   "outputs": [],
   "source": [
    "# Give all numbers between 1 to 100 and number div with 2 and 7\n",
    "numbers=input()\n",
    "for i in range(1,100):\n",
    "    if i%2==0 and i%7==0:\n",
    "        print(i)\n",
    "            "
   ]
  },
  {
   "cell_type": "code",
   "execution_count": null,
   "metadata": {},
   "outputs": [],
   "source": [
    "# [item loop condition]\n",
    "numbers=[1 for each in range(10)]\n",
    "print(numbers)"
   ]
  },
  {
   "cell_type": "code",
   "execution_count": null,
   "metadata": {},
   "outputs": [],
   "source": [
    "numbers=[each for each in range(1,11)]\n",
    "print(numbers)"
   ]
  },
  {
   "cell_type": "code",
   "execution_count": null,
   "metadata": {},
   "outputs": [],
   "source": [
    "numbers=[each for each in range(1,int(input())) if each%2==0 and each%7==0]\n",
    "print(numbers)"
   ]
  },
  {
   "cell_type": "code",
   "execution_count": null,
   "metadata": {},
   "outputs": [],
   "source": [
    "numbers=[(x,y,z) for x in range(1,100) for y in range(x,100) for z in range(y,100) if ((x**2)+(y**2))==(z**2)]\n",
    "                                                                                       \n",
    "print(numbers)"
   ]
  },
  {
   "cell_type": "code",
   "execution_count": null,
   "metadata": {},
   "outputs": [],
   "source": [
    "# students and total marks\n",
    "students_marks=[('sairam',[10,30,60]),('gowthami',[40,50,60])]\n",
    "students_dict={}\n",
    "for student in students_marks: \n",
    "    \n",
    "\n",
    "\n",
    "print(students_dict)\n"
   ]
  },
  {
   "cell_type": "code",
   "execution_count": null,
   "metadata": {},
   "outputs": [],
   "source": [
    "numbers=[1,2,3,4]\n",
    "squares=[]\n",
    "for n in numbers:\n",
    "    squares.append(n**2) \n",
    "print(squares)\n",
    "    \n",
    "    \n",
    "#     numbers = [1, 2, 3, 4]\n",
    "# squares = []\n",
    "\n",
    "# for n in numbers:\n",
    "#   squares.append(n**2)\n",
    "\n",
    "# print(squares)  # Output: [1, 4, 9, 16]"
   ]
  },
  {
   "cell_type": "code",
   "execution_count": 16,
   "metadata": {},
   "outputs": [
    {
     "name": "stdout",
     "output_type": "stream",
     "text": [
      "{'indu': 265, 'lucky': 190, 'mouni': 140}\n"
     ]
    }
   ],
   "source": [
    "student_marks=[('indu',[90,80,95]),('lucky',[80,50,60]),('mouni',[40,30,70])]\n",
    "students_dict={}\n",
    "student_tuple=()\n",
    "for student in student_marks:\n",
    "    name=student[0]\n",
    "    #print(student[1])\n",
    "    marks=sum(student[1])\n",
    "    students_dict[name]=marks\n",
    "# print(student,type(student))\n",
    "#     print(student[0],sum(student[1]))\n",
    "# #     students_tuple=student[0],sum(student[1])\n",
    "#     students_dict[students_tuple[0]]=students_tuple[1]\n",
    "print(students_dict)\n",
    "               "
   ]
  },
  {
   "cell_type": "code",
   "execution_count": null,
   "metadata": {},
   "outputs": [],
   "source": []
  }
 ],
 "metadata": {
  "kernelspec": {
   "display_name": "Python 3",
   "language": "python",
   "name": "python3"
  },
  "language_info": {
   "codemirror_mode": {
    "name": "ipython",
    "version": 3
   },
   "file_extension": ".py",
   "mimetype": "text/x-python",
   "name": "python",
   "nbconvert_exporter": "python",
   "pygments_lexer": "ipython3",
   "version": "3.7.3"
  }
 },
 "nbformat": 4,
 "nbformat_minor": 2
}
