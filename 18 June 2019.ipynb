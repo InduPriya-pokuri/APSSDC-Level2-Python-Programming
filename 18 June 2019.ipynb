{
 "cells": [
  {
   "cell_type": "markdown",
   "metadata": {},
   "source": [
    "**Problem Play with numbers"
   ]
  },
  {
   "cell_type": "code",
   "execution_count": 28,
   "metadata": {},
   "outputs": [
    {
     "name": "stdout",
     "output_type": "stream",
     "text": [
      "5 3\n",
      "1 2 3 4 5\n",
      "2 3\n",
      "5\n",
      "1 4\n",
      "2\n",
      "4 5\n",
      "10\n"
     ]
    }
   ],
   "source": [
    "n=input().split()\n",
    "n[0],n[1]=int(n[0]),int(n[1])\n",
    "\n",
    "a=input().split()\n",
    "sum=[]\n",
    "\n",
    "for i in range(0,n[0]):\n",
    "    if i==0 :\n",
    "        sum.append(int(a[i]))\n",
    "    else:\n",
    "        sum.append(int(sum[i-1])+int(a[i]))\n",
    "del a\n",
    "for k in range(0,n[1]):\n",
    "    inq=input().split()\n",
    "    i=int(inq[0])\n",
    "    j=int(inq[1])\n",
    "    if i>1:\n",
    "        print(sum[j-1]-sum[i-1]//(j-i+1))\n",
    "    else:\n",
    "        print(sum[j-1]//(j-i+1))\n",
    "          \n",
    "                   "
   ]
  },
  {
   "cell_type": "markdown",
   "metadata": {},
   "source": [
    "#### "
   ]
  },
  {
   "cell_type": "code",
   "execution_count": 5,
   "metadata": {},
   "outputs": [
    {
     "data": {
      "text/plain": [
       "False"
      ]
     },
     "execution_count": 5,
     "metadata": {},
     "output_type": "execute_result"
    }
   ],
   "source": [
    "#Function to determine ifn a number is special or not\n",
    "def isSpecialNumber(n,p):\n",
    "    if numberOfPrimeFactors(n)>=p:\n",
    "        return True\n",
    "    return False\n",
    "\n",
    "\n",
    "\n",
    "# Function to check prime if number is prime\n",
    "def is_prime(n):\n",
    "    flag=1\n",
    "    if n==2:\n",
    "        return True\n",
    "    for i in range(2,n//2+1):\n",
    "        if(n%i==0):\n",
    "            flag=0\n",
    "            return False\n",
    "    if flag==1:\n",
    "        return True\n",
    "    \n",
    "# Function to determine the number of prime factors   \n",
    "    \n",
    "def numberOfPrimeFactors(n):\n",
    "    if is_prime(n):\n",
    "        return 1\n",
    "    count=0\n",
    "    for i in range(2,n//2+1):\n",
    "        if is_prime(i) and n%i==0:\n",
    "            count=count+1\n",
    "        return count\n",
    "isSpecialNumber(6,2)\n",
    "\n",
    "\n",
    "def sol2():\n",
    "    p=int(input())\n",
    "    t=int(input())\n",
    "    for i in range(0,t):\n",
    "        n=int(input())\n",
    "        if isSpecialNumber(n,p):\n",
    "            print(\"Yes\")\n",
    "        else:\n",
    "            print(\"No\")\n",
    "#sol2()\n",
    "isSpecialNumber(30,2)\n"
   ]
  },
  {
   "cell_type": "markdown",
   "metadata": {},
   "source": [
    "### Problem with highest Remainder\n",
    "\n",
    "Write a program to find natural number that is smaller than N such that N gives highest remainder when divided by that number.\n",
    "If there is more than one such number ,Print small one\n",
    "\n",
    "\n",
    "N\n",
    "highest= 0\n",
    "x < Nand n%x==highest\n",
    "\n"
   ]
  },
  {
   "cell_type": "code",
   "execution_count": 8,
   "metadata": {},
   "outputs": [
    {
     "ename": "IndentationError",
     "evalue": "unexpected indent (<ipython-input-8-a230b6548f02>, line 8)",
     "output_type": "error",
     "traceback": [
      "\u001b[1;36m  File \u001b[1;32m\"<ipython-input-8-a230b6548f02>\"\u001b[1;36m, line \u001b[1;32m8\u001b[0m\n\u001b[1;33m    v = i\u001b[0m\n\u001b[1;37m    ^\u001b[0m\n\u001b[1;31mIndentationError\u001b[0m\u001b[1;31m:\u001b[0m unexpected indent\n"
     ]
    }
   ],
   "source": [
    "def highestRemainder(n):\n",
    "    hr=0\n",
    "    v=n\n",
    "    for i in range(n-1,n//2+1,-1):\n",
    "        r=n%i\n",
    "        if r>hr:\n",
    "            hr=r\n",
    "             v = i\n",
    "    print(v)\n",
    "    return\n",
    "highestRemainder(5)"
   ]
  },
  {
   "cell_type": "markdown",
   "metadata": {},
   "source": [
    "### Tuples\n",
    "t1=()\n",
    "\n",
    "li=[]\n",
    "\n",
    "\n",
    "**Difference between Lists and Tuples\n",
    "\n",
    "**Lists are Mutable-Can be changed/Modified\n",
    "    - Used to Access ,Modify,Add,Delete,data\n",
    "** Tuples are immutable-Cannot be changed once initialized\n",
    "    - Tuples are generally used to access data only\n",
    "    "
   ]
  },
  {
   "cell_type": "code",
   "execution_count": 9,
   "metadata": {},
   "outputs": [
    {
     "data": {
      "text/plain": [
       "6"
      ]
     },
     "execution_count": 9,
     "metadata": {},
     "output_type": "execute_result"
    }
   ],
   "source": [
    "t1=(1,2,8,6,0)\n",
    "\n",
    "t1[3] # Accessing the fourth element\n",
    "\n",
    "# Accessing all elements from middle to last"
   ]
  },
  {
   "cell_type": "code",
   "execution_count": 11,
   "metadata": {},
   "outputs": [
    {
     "data": {
      "text/plain": [
       "(8, 6, 0)"
      ]
     },
     "execution_count": 11,
     "metadata": {},
     "output_type": "execute_result"
    }
   ],
   "source": [
    "t1[len(t1)//2:]#Accessing all elements from "
   ]
  },
  {
   "cell_type": "markdown",
   "metadata": {},
   "source": [
    "### Dictionaries\n",
    "\n",
    "It works on the concept of set\n",
    "\n",
    "Unique Data\n",
    "\n",
    "keys,Values\n",
    "\n",
    "Key is the unique identifier for a value\n",
    "\n",
    "Value is data that can be accesssed with a key\n",
    "\n"
   ]
  },
  {
   "cell_type": "code",
   "execution_count": 12,
   "metadata": {},
   "outputs": [
    {
     "data": {
      "text/plain": [
       "'value2'"
      ]
     },
     "execution_count": 12,
     "metadata": {},
     "output_type": "execute_result"
    }
   ],
   "source": [
    "d1={\"k1\":\"value1\",\"k2\":\"value2\",\"k3\":\"value3\"}\n",
    "\n",
    "d1[\"k2\"]# Accessing the value with key \"k2\""
   ]
  },
  {
   "cell_type": "code",
   "execution_count": 14,
   "metadata": {},
   "outputs": [
    {
     "data": {
      "text/plain": [
       "dict_keys(['k1', 'k2', 'k3'])"
      ]
     },
     "execution_count": 14,
     "metadata": {},
     "output_type": "execute_result"
    }
   ],
   "source": [
    "d1.keys()#returns list of all keys"
   ]
  },
  {
   "cell_type": "code",
   "execution_count": 15,
   "metadata": {},
   "outputs": [
    {
     "data": {
      "text/plain": [
       "dict_values(['value1', 'value2', 'value3'])"
      ]
     },
     "execution_count": 15,
     "metadata": {},
     "output_type": "execute_result"
    }
   ],
   "source": [
    "d1.values()# returns list of all values"
   ]
  },
  {
   "cell_type": "code",
   "execution_count": 17,
   "metadata": {},
   "outputs": [
    {
     "data": {
      "text/plain": [
       "dict_items([('k1', 'value1'), ('k2', 'value2'), ('k3', 'value3')])"
      ]
     },
     "execution_count": 17,
     "metadata": {},
     "output_type": "execute_result"
    }
   ],
   "source": [
    "d1.items()# returns list of tuples of keys and values"
   ]
  },
  {
   "cell_type": "code",
   "execution_count": 18,
   "metadata": {},
   "outputs": [
    {
     "data": {
      "text/plain": [
       "{'k1': 'value1', 'k2': 'value2', 'k3': 'value4'}"
      ]
     },
     "execution_count": 18,
     "metadata": {},
     "output_type": "execute_result"
    }
   ],
   "source": [
    "d1[\"k3\"]=\"value3\"#adding an element\n",
    "\n",
    "d1[\"k3\"]=\"value4\"#updating an element\n",
    "d1"
   ]
  },
  {
   "cell_type": "code",
   "execution_count": 20,
   "metadata": {},
   "outputs": [
    {
     "data": {
      "text/plain": [
       "'value4'"
      ]
     },
     "execution_count": 20,
     "metadata": {},
     "output_type": "execute_result"
    }
   ],
   "source": [
    "d1.pop(\"k3\")#delete "
   ]
  },
  {
   "cell_type": "code",
   "execution_count": 21,
   "metadata": {},
   "outputs": [
    {
     "data": {
      "text/plain": [
       "{'k1': 'value1', 'k2': 'value2'}"
      ]
     },
     "execution_count": 21,
     "metadata": {},
     "output_type": "execute_result"
    }
   ],
   "source": [
    "d1\n"
   ]
  },
  {
   "cell_type": "markdown",
   "metadata": {},
   "source": [
    "### Contacts Application\n",
    "\n",
    "- Add Contact\n",
    "- Search for a contact\n",
    "- List of all Contact\n",
    "    - name1:phone1\n",
    "    - name2:phone2\n",
    "- Modify Contacts\n",
    "- Remove Contacts\n",
    "- Import Contacts"
   ]
  },
  {
   "cell_type": "code",
   "execution_count": 34,
   "metadata": {},
   "outputs": [
    {
     "name": "stdout",
     "output_type": "stream",
     "text": [
      "contact name1 added\n"
     ]
    }
   ],
   "source": [
    "contacts={}\n",
    "def addContact(name,number):\n",
    "    #Verify that the contact doesnot already exit\n",
    "    if name not in contacts:\n",
    "        contacts[name]=number\n",
    "        print(\"contact %s added\" %name)\n",
    "        \n",
    "    else:\n",
    "        print(\"contact  %s already exits \"  %name)\n",
    "    return\n",
    "addContact(\"name1\",\"9090909090\")"
   ]
  },
  {
   "cell_type": "code",
   "execution_count": 33,
   "metadata": {},
   "outputs": [
    {
     "name": "stdout",
     "output_type": "stream",
     "text": [
      "name10 doesnot exit\n"
     ]
    }
   ],
   "source": [
    "def searchContacts(name):\n",
    "    if name in contacts:\n",
    "        print(name, \":\",contacts[name])\n",
    "    else:\n",
    "        print(\"%s doesnot exit\" %name)\n",
    "    return\n",
    "\n",
    "searchContacts(\"name10\")"
   ]
  },
  {
   "cell_type": "code",
   "execution_count": 37,
   "metadata": {},
   "outputs": [
    {
     "name": "stdout",
     "output_type": "stream",
     "text": [
      "2 contacts added successfully\n"
     ]
    }
   ],
   "source": [
    "# New Contacts is given as a dictionary\n",
    "# Merge new contacts with existing contacts\n",
    "\n",
    "def importContacts(newContacts):\n",
    "    contacts.update(newContacts)\n",
    "    print(len(newContacts.keys()),\"contacts added successfully\")\n",
    "    return\n",
    "\n",
    "newContacts={\"name2\":9898989898, \"name3\": 8989898989}\n",
    "importContacts(newContacts)\n"
   ]
  },
  {
   "cell_type": "code",
   "execution_count": null,
   "metadata": {},
   "outputs": [],
   "source": []
  }
 ],
 "metadata": {
  "kernelspec": {
   "display_name": "Python 3",
   "language": "python",
   "name": "python3"
  },
  "language_info": {
   "codemirror_mode": {
    "name": "ipython",
    "version": 3
   },
   "file_extension": ".py",
   "mimetype": "text/x-python",
   "name": "python",
   "nbconvert_exporter": "python",
   "pygments_lexer": "ipython3",
   "version": "3.7.3"
  }
 },
 "nbformat": 4,
 "nbformat_minor": 2
}
